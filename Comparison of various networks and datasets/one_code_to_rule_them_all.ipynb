{
  "cells": [
    {
      "cell_type": "markdown",
      "source": [
        "#Import Packages"
      ],
      "metadata": {
        "id": "PUZRPA6kdyu9"
      }
    },
    {
      "cell_type": "code",
      "source": [
        "#newer versions of tensorflow have a stupid bug for saving models with efficientnet B0 backbone\n",
        "!pip install tensorflow==2.9.1"
      ],
      "metadata": {
        "colab": {
          "base_uri": "https://localhost:8080/"
        },
        "id": "tpFm-8ZK0uxk",
        "outputId": "b5688c2f-c2d4-4be2-a2f0-c2381bbc789a"
      },
      "execution_count": null,
      "outputs": [
        {
          "output_type": "stream",
          "name": "stdout",
          "text": [
            "Looking in indexes: https://pypi.org/simple, https://us-python.pkg.dev/colab-wheels/public/simple/\n",
            "Requirement already satisfied: tensorflow==2.9.1 in /usr/local/lib/python3.8/dist-packages (2.9.1)\n",
            "Requirement already satisfied: flatbuffers<2,>=1.12 in /usr/local/lib/python3.8/dist-packages (from tensorflow==2.9.1) (1.12)\n",
            "Requirement already satisfied: keras<2.10.0,>=2.9.0rc0 in /usr/local/lib/python3.8/dist-packages (from tensorflow==2.9.1) (2.9.0)\n",
            "Requirement already satisfied: h5py>=2.9.0 in /usr/local/lib/python3.8/dist-packages (from tensorflow==2.9.1) (3.1.0)\n",
            "Requirement already satisfied: protobuf<3.20,>=3.9.2 in /usr/local/lib/python3.8/dist-packages (from tensorflow==2.9.1) (3.19.6)\n",
            "Requirement already satisfied: google-pasta>=0.1.1 in /usr/local/lib/python3.8/dist-packages (from tensorflow==2.9.1) (0.2.0)\n",
            "Requirement already satisfied: opt-einsum>=2.3.2 in /usr/local/lib/python3.8/dist-packages (from tensorflow==2.9.1) (3.3.0)\n",
            "Requirement already satisfied: gast<=0.4.0,>=0.2.1 in /usr/local/lib/python3.8/dist-packages (from tensorflow==2.9.1) (0.4.0)\n",
            "Requirement already satisfied: setuptools in /usr/local/lib/python3.8/dist-packages (from tensorflow==2.9.1) (57.4.0)\n",
            "Requirement already satisfied: tensorboard<2.10,>=2.9 in /usr/local/lib/python3.8/dist-packages (from tensorflow==2.9.1) (2.9.1)\n",
            "Requirement already satisfied: grpcio<2.0,>=1.24.3 in /usr/local/lib/python3.8/dist-packages (from tensorflow==2.9.1) (1.51.3)\n",
            "Requirement already satisfied: typing-extensions>=3.6.6 in /usr/local/lib/python3.8/dist-packages (from tensorflow==2.9.1) (4.5.0)\n",
            "Requirement already satisfied: keras-preprocessing>=1.1.1 in /usr/local/lib/python3.8/dist-packages (from tensorflow==2.9.1) (1.1.2)\n",
            "Requirement already satisfied: astunparse>=1.6.0 in /usr/local/lib/python3.8/dist-packages (from tensorflow==2.9.1) (1.6.3)\n",
            "Requirement already satisfied: packaging in /usr/local/lib/python3.8/dist-packages (from tensorflow==2.9.1) (23.0)\n",
            "Requirement already satisfied: absl-py>=1.0.0 in /usr/local/lib/python3.8/dist-packages (from tensorflow==2.9.1) (1.4.0)\n",
            "Requirement already satisfied: numpy>=1.20 in /usr/local/lib/python3.8/dist-packages (from tensorflow==2.9.1) (1.22.4)\n",
            "Requirement already satisfied: six>=1.12.0 in /usr/local/lib/python3.8/dist-packages (from tensorflow==2.9.1) (1.15.0)\n",
            "Requirement already satisfied: tensorflow-estimator<2.10.0,>=2.9.0rc0 in /usr/local/lib/python3.8/dist-packages (from tensorflow==2.9.1) (2.9.0)\n",
            "Requirement already satisfied: termcolor>=1.1.0 in /usr/local/lib/python3.8/dist-packages (from tensorflow==2.9.1) (2.2.0)\n",
            "Requirement already satisfied: tensorflow-io-gcs-filesystem>=0.23.1 in /usr/local/lib/python3.8/dist-packages (from tensorflow==2.9.1) (0.31.0)\n",
            "Requirement already satisfied: libclang>=13.0.0 in /usr/local/lib/python3.8/dist-packages (from tensorflow==2.9.1) (15.0.6.1)\n",
            "Requirement already satisfied: wrapt>=1.11.0 in /usr/local/lib/python3.8/dist-packages (from tensorflow==2.9.1) (1.15.0)\n",
            "Requirement already satisfied: wheel<1.0,>=0.23.0 in /usr/local/lib/python3.8/dist-packages (from astunparse>=1.6.0->tensorflow==2.9.1) (0.38.4)\n",
            "Requirement already satisfied: google-auth<3,>=1.6.3 in /usr/local/lib/python3.8/dist-packages (from tensorboard<2.10,>=2.9->tensorflow==2.9.1) (2.16.1)\n",
            "Requirement already satisfied: markdown>=2.6.8 in /usr/local/lib/python3.8/dist-packages (from tensorboard<2.10,>=2.9->tensorflow==2.9.1) (3.4.1)\n",
            "Requirement already satisfied: requests<3,>=2.21.0 in /usr/local/lib/python3.8/dist-packages (from tensorboard<2.10,>=2.9->tensorflow==2.9.1) (2.25.1)\n",
            "Requirement already satisfied: google-auth-oauthlib<0.5,>=0.4.1 in /usr/local/lib/python3.8/dist-packages (from tensorboard<2.10,>=2.9->tensorflow==2.9.1) (0.4.6)\n",
            "Requirement already satisfied: werkzeug>=1.0.1 in /usr/local/lib/python3.8/dist-packages (from tensorboard<2.10,>=2.9->tensorflow==2.9.1) (2.2.3)\n",
            "Requirement already satisfied: tensorboard-plugin-wit>=1.6.0 in /usr/local/lib/python3.8/dist-packages (from tensorboard<2.10,>=2.9->tensorflow==2.9.1) (1.8.1)\n",
            "Requirement already satisfied: tensorboard-data-server<0.7.0,>=0.6.0 in /usr/local/lib/python3.8/dist-packages (from tensorboard<2.10,>=2.9->tensorflow==2.9.1) (0.6.1)\n",
            "Requirement already satisfied: rsa<5,>=3.1.4 in /usr/local/lib/python3.8/dist-packages (from google-auth<3,>=1.6.3->tensorboard<2.10,>=2.9->tensorflow==2.9.1) (4.9)\n",
            "Requirement already satisfied: cachetools<6.0,>=2.0.0 in /usr/local/lib/python3.8/dist-packages (from google-auth<3,>=1.6.3->tensorboard<2.10,>=2.9->tensorflow==2.9.1) (5.3.0)\n",
            "Requirement already satisfied: pyasn1-modules>=0.2.1 in /usr/local/lib/python3.8/dist-packages (from google-auth<3,>=1.6.3->tensorboard<2.10,>=2.9->tensorflow==2.9.1) (0.2.8)\n",
            "Requirement already satisfied: requests-oauthlib>=0.7.0 in /usr/local/lib/python3.8/dist-packages (from google-auth-oauthlib<0.5,>=0.4.1->tensorboard<2.10,>=2.9->tensorflow==2.9.1) (1.3.1)\n",
            "Requirement already satisfied: importlib-metadata>=4.4 in /usr/local/lib/python3.8/dist-packages (from markdown>=2.6.8->tensorboard<2.10,>=2.9->tensorflow==2.9.1) (6.0.0)\n",
            "Requirement already satisfied: idna<3,>=2.5 in /usr/local/lib/python3.8/dist-packages (from requests<3,>=2.21.0->tensorboard<2.10,>=2.9->tensorflow==2.9.1) (2.10)\n",
            "Requirement already satisfied: urllib3<1.27,>=1.21.1 in /usr/local/lib/python3.8/dist-packages (from requests<3,>=2.21.0->tensorboard<2.10,>=2.9->tensorflow==2.9.1) (1.26.14)\n",
            "Requirement already satisfied: certifi>=2017.4.17 in /usr/local/lib/python3.8/dist-packages (from requests<3,>=2.21.0->tensorboard<2.10,>=2.9->tensorflow==2.9.1) (2022.12.7)\n",
            "Requirement already satisfied: chardet<5,>=3.0.2 in /usr/local/lib/python3.8/dist-packages (from requests<3,>=2.21.0->tensorboard<2.10,>=2.9->tensorflow==2.9.1) (4.0.0)\n",
            "Requirement already satisfied: MarkupSafe>=2.1.1 in /usr/local/lib/python3.8/dist-packages (from werkzeug>=1.0.1->tensorboard<2.10,>=2.9->tensorflow==2.9.1) (2.1.2)\n",
            "Requirement already satisfied: zipp>=0.5 in /usr/local/lib/python3.8/dist-packages (from importlib-metadata>=4.4->markdown>=2.6.8->tensorboard<2.10,>=2.9->tensorflow==2.9.1) (3.15.0)\n",
            "Requirement already satisfied: pyasn1<0.5.0,>=0.4.6 in /usr/local/lib/python3.8/dist-packages (from pyasn1-modules>=0.2.1->google-auth<3,>=1.6.3->tensorboard<2.10,>=2.9->tensorflow==2.9.1) (0.4.8)\n",
            "Requirement already satisfied: oauthlib>=3.0.0 in /usr/local/lib/python3.8/dist-packages (from requests-oauthlib>=0.7.0->google-auth-oauthlib<0.5,>=0.4.1->tensorboard<2.10,>=2.9->tensorflow==2.9.1) (3.2.2)\n"
          ]
        }
      ]
    },
    {
      "cell_type": "code",
      "execution_count": null,
      "metadata": {
        "id": "fB6zf4ztcLT1"
      },
      "outputs": [],
      "source": [
        "from __future__ import print_function\n",
        "import tensorflow\n",
        "import json\n",
        "from tensorflow.keras.datasets import cifar10,cifar100,fashion_mnist\n",
        "from tensorflow.keras.preprocessing.image import ImageDataGenerator\n",
        "from tensorflow.keras.models import Sequential\n",
        "from tensorflow.keras.layers import Dense, Dropout, Activation, Flatten\n",
        "from tensorflow.keras.layers import Conv2D, MaxPooling2D, BatchNormalization, GlobalAveragePooling2D\n",
        "from tensorflow.keras import optimizers\n",
        "import numpy as np\n",
        "from tensorflow.keras import backend as K\n",
        "from tensorflow.keras import regularizers\n",
        "from keras import models\n",
        "from keras.utils import plot_model\n",
        "from scipy.spatial.distance import cdist\n",
        "import matplotlib.pyplot as plt\n",
        "from sklearn.utils import shuffle\n",
        "from sklearn.model_selection import train_test_split\n",
        "from tensorflow.keras.applications import VGG16\n",
        "from tensorflow.keras.applications.resnet50 import ResNet50\n",
        "from tensorflow.keras.applications.efficientnet import EfficientNetB0\n",
        "from tensorflow.keras.utils import img_to_array, array_to_img\n"
      ]
    },
    {
      "cell_type": "code",
      "execution_count": null,
      "metadata": {
        "colab": {
          "base_uri": "https://localhost:8080/"
        },
        "id": "crZovlfKORm4",
        "outputId": "9879c9b0-849e-4168-940c-dd28a7394366"
      },
      "outputs": [
        {
          "output_type": "stream",
          "name": "stdout",
          "text": [
            "Drive already mounted at /content/drive; to attempt to forcibly remount, call drive.mount(\"/content/drive\", force_remount=True).\n"
          ]
        }
      ],
      "source": [
        "from google.colab import drive\n",
        "drive.mount('/content/drive')"
      ]
    },
    {
      "cell_type": "code",
      "source": [
        "dataset=cifar100 #cifar10,cifar100,fashion_mnist\n",
        "backbone=ResNet50 #VGG16,ResNet50.EfficientNetB0\n",
        " "
      ],
      "metadata": {
        "id": "pXa17lF6D-sc"
      },
      "execution_count": null,
      "outputs": []
    },
    {
      "cell_type": "markdown",
      "source": [
        "#Class for define model and important methods for data preproccesing and train model"
      ],
      "metadata": {
        "id": "xrVmJDbHeJ6z"
      }
    },
    {
      "cell_type": "code",
      "execution_count": null,
      "metadata": {
        "id": "vak5e5sEcaBM"
      },
      "outputs": [],
      "source": [
        "class NN:\n",
        "    def __init__(self, train=True):\n",
        "        if dataset==cifar100: \n",
        "          self.num_classes = 100\n",
        "          self.data_per_class=500\n",
        "\n",
        "        else : \n",
        "          self.num_classes = 10\n",
        "          self.data_per_class=2000\n",
        "\n",
        "        self.weight_decay = 0.0005\n",
        "        self.x_shape = [32, 32, 3]\n",
        "\n",
        "        self.model = self.build_model()\n",
        "        if train:\n",
        "            self.model = self.train(self.model)\n",
        "        else:\n",
        "            self.model.load_weights('/content/drive/MyDrive/NN.h5')\n",
        "    def custom_loss(y_actual, y_pred):\n",
        "        custom_loss = K.square(y_actual - y_pred)\n",
        "        return custom_loss\n",
        "\n",
        "    def build_model(self):\n",
        "        base_model = backbone(weights='imagenet', include_top=False, input_shape=(32, 32, 3))\n",
        "\n",
        "        for layer in base_model.layers:\n",
        "            layer.trainable = True\n",
        "\n",
        "        model = Sequential()\n",
        "        weight_decay = self.weight_decay\n",
        "        model.add(base_model)\n",
        "        model.add(Flatten())\n",
        "        if backbone==ResNet50:\n",
        "            model.add(BatchNormalization())\n",
        "            model.add(Dense(512 ,kernel_regularizer=regularizers.l2(weight_decay)))\n",
        "            model.add(Dropout(0.5))\n",
        "            model.add(Activation('relu'))\n",
        "            model.add(BatchNormalization())\n",
        "        if backbone==VGG16:\n",
        "            model.add(Dense(4096 ,kernel_regularizer=regularizers.l2(weight_decay)))\n",
        "            model.add(Activation('relu'))\n",
        "            # model.add(BatchNormalization())\n",
        "            model.add(Dense(4096 ,kernel_regularizer=regularizers.l2(weight_decay)))\n",
        "            model.add(Activation('relu'))\n",
        "        if backbone==EfficientNetB0:\n",
        "          model.add(Dense(1280,kernel_regularizer=regularizers.l2(weight_decay)))\n",
        "          model.add(Activation('relu'))\n",
        "          model.add(Dense(512,kernel_regularizer=regularizers.l2(weight_decay)))\n",
        "          model.add(Activation('relu'))\n",
        "\n",
        "\n",
        "        model.add(Dense(self.num_classes))\n",
        "        model.add(Activation('softmax'))\n",
        "\n",
        "        return model\n",
        "\n",
        "    def normalize(self, x_train, x_test):\n",
        "        mean = np.mean(x_train,axis=(0,1,2,3))\n",
        "        std = np.std(x_train, axis=(0, 1, 2, 3))\n",
        "        x_train = (x_train-mean)/(std+1e-7)\n",
        "        x_test = (x_test-mean)/(std+1e-7)\n",
        "        return x_train, x_test\n",
        "\n",
        "    def normalize_production(self, x):\n",
        "        mean = 120.707\n",
        "        std = 64.15\n",
        "        x = (x-mean)/(std+1e-7)\n",
        "        return x\n",
        "\n",
        "    def predict(self, x, normalize=True, batch_size=50):\n",
        "        if normalize:\n",
        "            x = self.normalize_production(x)\n",
        "        return self.model.predict(x, batch_size)\n",
        "\n",
        "    def train(self, model):\n",
        "        batch_size = 128\n",
        "        maxepoches = 100\n",
        "        learning_rate = 0.001\n",
        "        lr_decay = 1e-6\n",
        "        lr_drop = 20\n",
        "        (x_train, y_train), (x_test, y_test) = dataset.load_data()\n",
        "        x_train = x_train.astype('float32')\n",
        "        x_test = x_test.astype('float32')\n",
        "        y_train=y_train.reshape(y_train.shape[0],1)\n",
        "        x_train_s= []\n",
        "        y_train_s= []\n",
        "        for i in range(self.num_classes):\n",
        "          c = 0\n",
        "          for j in range(len(y_train)):\n",
        "            if c == self.data_per_class:\n",
        "              break\n",
        "            if y_train[j][0] == i:\n",
        "              x_train_s.append(x_train[j])\n",
        "              y_train_s.append(y_train[j][0])\n",
        "              c += 1\n",
        "\n",
        "        x_train, y_train = shuffle(x_train_s, y_train_s)\n",
        "\n",
        "        x_train = np.array(x_train)\n",
        "        if dataset==fashion_mnist:\n",
        "            x_train=np.dstack([x_train.reshape(self.data_per_class*10,28*28,1)] * 3)\n",
        "            x_train=x_train.reshape(self.data_per_class*10,28,28,3)\n",
        "            x_train= np.asarray([img_to_array(array_to_img(im, scale=False).resize((32,32))) for im in x_train])\n",
        "           # x_test = np.asarray([img_to_array(array_to_img(im, scale=False).resize((32,32))) for im in x_train])\n",
        "\n",
        "        x_train, x_test = self.normalize(x_train, x_test)\n",
        "        y_train = np.array(y_train)\n",
        "\n",
        "        y_train = tensorflow.keras.utils.to_categorical(y_train, self.num_classes)\n",
        "        y_test = tensorflow.keras.utils.to_categorical(y_test, self.num_classes)        \n",
        "        x_train,x_valid,y_train,y_valid = train_test_split(x_train,y_train,test_size=0.2,shuffle = True,  random_state=42)\n",
        "    \n",
        "        def lr_scheduler(self, epoch):\n",
        "            return learning_rate * (0.5 ** (epoch // lr_drop))\n",
        "        reduce_lr = tensorflow.keras.callbacks.LearningRateScheduler(lr_scheduler)\n",
        "\n",
        "        # data augmentation\n",
        "        datagen = ImageDataGenerator(\n",
        "            featurewise_std_normalization=False,\n",
        "            samplewise_std_normalization=False)\n",
        "        \n",
        "        datagen.fit(x_train)\n",
        "\n",
        "        sgd = optimizers.SGD(lr=learning_rate,decay=lr_decay, momentum=0.9, nesterov=True)\n",
        "        model.compile(loss='categorical_crossentropy', optimizer=sgd, metrics=['accuracy'])\n",
        "\n",
        "        historytemp = model.fit(datagen.flow(x_train, y_train, batch_size=batch_size),\n",
        "                                steps_per_epoch=x_train.shape[0] // batch_size,\n",
        "                                epochs=maxepoches,\n",
        "                                validation_data=(x_valid, y_valid),\n",
        "                                callbacks=[reduce_lr],\n",
        "                                verbose=1)\n",
        "\n",
        "        history_dict = historytemp.history\n",
        "\n",
        "        # Save the model\n",
        "        print(\"batchsize :\")\n",
        "        print(history_dict)\n",
        "        model.save_weights('/content/drive/MyDrive/NN.h5')\n",
        "        model.save(\"/content/drive/MyDrive/Project.h5\")\n",
        "        return model"
      ]
    },
    {
      "cell_type": "markdown",
      "source": [
        "#Train Model"
      ],
      "metadata": {
        "id": "zMpgd700ebi8"
      }
    },
    {
      "cell_type": "code",
      "source": [
        "print(dataset)\n",
        "print(backbone)"
      ],
      "metadata": {
        "colab": {
          "base_uri": "https://localhost:8080/"
        },
        "id": "0z-B6480cC_H",
        "outputId": "6b565303-49cf-4a74-9aa4-db1a38e29b6d"
      },
      "execution_count": null,
      "outputs": [
        {
          "output_type": "stream",
          "name": "stdout",
          "text": [
            "<module 'keras.api._v2.keras.datasets.cifar100' from '/usr/local/lib/python3.8/dist-packages/keras/api/_v2/keras/datasets/cifar100/__init__.py'>\n",
            "<function ResNet50 at 0x7fd5d2695dc0>\n"
          ]
        }
      ]
    },
    {
      "cell_type": "code",
      "execution_count": null,
      "metadata": {
        "colab": {
          "base_uri": "https://localhost:8080/"
        },
        "id": "MvULTvv1cODU",
        "outputId": "bdc714b3-85a6-4f34-bc0c-515b039d8065"
      },
      "outputs": [
        {
          "output_type": "stream",
          "name": "stdout",
          "text": [
            "Epoch 1/100\n"
          ]
        },
        {
          "output_type": "stream",
          "name": "stderr",
          "text": [
            "/usr/local/lib/python3.8/dist-packages/keras/optimizers/optimizer_v2/gradient_descent.py:108: UserWarning: The `lr` argument is deprecated, use `learning_rate` instead.\n",
            "  super(SGD, self).__init__(name, **kwargs)\n"
          ]
        },
        {
          "output_type": "stream",
          "name": "stdout",
          "text": [
            "312/312 [==============================] - 37s 88ms/step - loss: 5.0057 - accuracy: 0.0643 - val_loss: 5.0560 - val_accuracy: 0.0163 - lr: 0.0010\n",
            "Epoch 2/100\n",
            "312/312 [==============================] - 28s 89ms/step - loss: 3.9050 - accuracy: 0.2091 - val_loss: 4.1183 - val_accuracy: 0.1773 - lr: 0.0010\n",
            "Epoch 3/100\n",
            "312/312 [==============================] - 26s 83ms/step - loss: 3.2778 - accuracy: 0.3177 - val_loss: 3.0618 - val_accuracy: 0.3606 - lr: 0.0010\n",
            "Epoch 4/100\n",
            "312/312 [==============================] - 25s 81ms/step - loss: 2.8258 - accuracy: 0.4033 - val_loss: 2.8340 - val_accuracy: 0.4076 - lr: 0.0010\n",
            "Epoch 5/100\n",
            "312/312 [==============================] - 26s 83ms/step - loss: 2.4832 - accuracy: 0.4760 - val_loss: 2.6708 - val_accuracy: 0.4330 - lr: 0.0010\n",
            "Epoch 6/100\n",
            "312/312 [==============================] - 25s 81ms/step - loss: 2.2053 - accuracy: 0.5361 - val_loss: 2.5857 - val_accuracy: 0.4481 - lr: 0.0010\n",
            "Epoch 7/100\n",
            "312/312 [==============================] - 27s 87ms/step - loss: 1.9605 - accuracy: 0.5921 - val_loss: 2.5223 - val_accuracy: 0.4625 - lr: 0.0010\n",
            "Epoch 8/100\n",
            "312/312 [==============================] - 25s 81ms/step - loss: 1.7387 - accuracy: 0.6450 - val_loss: 2.4970 - val_accuracy: 0.4741 - lr: 0.0010\n",
            "Epoch 9/100\n",
            "312/312 [==============================] - 27s 86ms/step - loss: 1.5444 - accuracy: 0.6962 - val_loss: 2.4959 - val_accuracy: 0.4817 - lr: 0.0010\n",
            "Epoch 10/100\n",
            "312/312 [==============================] - 27s 86ms/step - loss: 1.3989 - accuracy: 0.7344 - val_loss: 2.5111 - val_accuracy: 0.4809 - lr: 0.0010\n",
            "Epoch 11/100\n",
            "312/312 [==============================] - 27s 87ms/step - loss: 1.2270 - accuracy: 0.7785 - val_loss: 2.5273 - val_accuracy: 0.4837 - lr: 0.0010\n",
            "Epoch 12/100\n",
            "312/312 [==============================] - 27s 86ms/step - loss: 1.1128 - accuracy: 0.8103 - val_loss: 2.5374 - val_accuracy: 0.4903 - lr: 0.0010\n",
            "Epoch 13/100\n",
            "312/312 [==============================] - 25s 81ms/step - loss: 1.0023 - accuracy: 0.8373 - val_loss: 2.5412 - val_accuracy: 0.4944 - lr: 0.0010\n",
            "Epoch 14/100\n",
            "312/312 [==============================] - 27s 87ms/step - loss: 0.8974 - accuracy: 0.8668 - val_loss: 2.5663 - val_accuracy: 0.4878 - lr: 0.0010\n",
            "Epoch 15/100\n",
            "312/312 [==============================] - 26s 82ms/step - loss: 0.8131 - accuracy: 0.8887 - val_loss: 2.6140 - val_accuracy: 0.4910 - lr: 0.0010\n",
            "Epoch 16/100\n",
            "312/312 [==============================] - 25s 80ms/step - loss: 0.7454 - accuracy: 0.9066 - val_loss: 2.6713 - val_accuracy: 0.4943 - lr: 0.0010\n",
            "Epoch 17/100\n",
            "312/312 [==============================] - 25s 81ms/step - loss: 0.6826 - accuracy: 0.9211 - val_loss: 2.6903 - val_accuracy: 0.4897 - lr: 0.0010\n",
            "Epoch 18/100\n",
            "312/312 [==============================] - 26s 83ms/step - loss: 0.6360 - accuracy: 0.9344 - val_loss: 2.7351 - val_accuracy: 0.4888 - lr: 0.0010\n",
            "Epoch 19/100\n",
            "312/312 [==============================] - 28s 88ms/step - loss: 0.5931 - accuracy: 0.9467 - val_loss: 2.7562 - val_accuracy: 0.4937 - lr: 0.0010\n",
            "Epoch 20/100\n",
            "312/312 [==============================] - 27s 87ms/step - loss: 0.5570 - accuracy: 0.9539 - val_loss: 2.7575 - val_accuracy: 0.4999 - lr: 0.0010\n",
            "Epoch 21/100\n",
            "312/312 [==============================] - 26s 84ms/step - loss: 0.5312 - accuracy: 0.9598 - val_loss: 2.7985 - val_accuracy: 0.4993 - lr: 0.0010\n",
            "Epoch 22/100\n",
            "312/312 [==============================] - 27s 85ms/step - loss: 0.5023 - accuracy: 0.9676 - val_loss: 2.8364 - val_accuracy: 0.4960 - lr: 0.0010\n",
            "Epoch 23/100\n",
            "312/312 [==============================] - 27s 87ms/step - loss: 0.4835 - accuracy: 0.9713 - val_loss: 2.8411 - val_accuracy: 0.4990 - lr: 0.0010\n",
            "Epoch 24/100\n",
            "312/312 [==============================] - 26s 83ms/step - loss: 0.4635 - accuracy: 0.9757 - val_loss: 2.8684 - val_accuracy: 0.5024 - lr: 0.0010\n",
            "Epoch 25/100\n",
            "312/312 [==============================] - 25s 80ms/step - loss: 0.4496 - accuracy: 0.9787 - val_loss: 2.8855 - val_accuracy: 0.5013 - lr: 0.0010\n",
            "Epoch 26/100\n",
            "312/312 [==============================] - 27s 87ms/step - loss: 0.4404 - accuracy: 0.9803 - val_loss: 2.9039 - val_accuracy: 0.5029 - lr: 0.0010\n",
            "Epoch 27/100\n",
            "312/312 [==============================] - 26s 83ms/step - loss: 0.4284 - accuracy: 0.9832 - val_loss: 2.9188 - val_accuracy: 0.5025 - lr: 0.0010\n",
            "Epoch 28/100\n",
            "312/312 [==============================] - 27s 86ms/step - loss: 0.4251 - accuracy: 0.9826 - val_loss: 2.9611 - val_accuracy: 0.4989 - lr: 0.0010\n",
            "Epoch 29/100\n",
            "312/312 [==============================] - 25s 82ms/step - loss: 0.4157 - accuracy: 0.9847 - val_loss: 2.9728 - val_accuracy: 0.5007 - lr: 0.0010\n",
            "Epoch 30/100\n",
            "312/312 [==============================] - 26s 85ms/step - loss: 0.4074 - accuracy: 0.9867 - val_loss: 3.0063 - val_accuracy: 0.4995 - lr: 0.0010\n",
            "Epoch 31/100\n",
            "312/312 [==============================] - 27s 85ms/step - loss: 0.4005 - accuracy: 0.9870 - val_loss: 2.9704 - val_accuracy: 0.5050 - lr: 0.0010\n",
            "Epoch 32/100\n",
            "312/312 [==============================] - 27s 87ms/step - loss: 0.3931 - accuracy: 0.9881 - val_loss: 2.9936 - val_accuracy: 0.5063 - lr: 0.0010\n",
            "Epoch 33/100\n",
            "312/312 [==============================] - 26s 83ms/step - loss: 0.3872 - accuracy: 0.9892 - val_loss: 2.9963 - val_accuracy: 0.5051 - lr: 0.0010\n",
            "Epoch 34/100\n",
            "312/312 [==============================] - 25s 79ms/step - loss: 0.3862 - accuracy: 0.9885 - val_loss: 3.0185 - val_accuracy: 0.5008 - lr: 0.0010\n",
            "Epoch 35/100\n",
            "312/312 [==============================] - 27s 87ms/step - loss: 0.3795 - accuracy: 0.9903 - val_loss: 3.0505 - val_accuracy: 0.5038 - lr: 0.0010\n",
            "Epoch 36/100\n",
            "312/312 [==============================] - 27s 86ms/step - loss: 0.3773 - accuracy: 0.9895 - val_loss: 3.0156 - val_accuracy: 0.5056 - lr: 0.0010\n",
            "Epoch 37/100\n",
            "312/312 [==============================] - 26s 82ms/step - loss: 0.3751 - accuracy: 0.9904 - val_loss: 3.0943 - val_accuracy: 0.5006 - lr: 0.0010\n",
            "Epoch 38/100\n",
            "312/312 [==============================] - 25s 80ms/step - loss: 0.3680 - accuracy: 0.9909 - val_loss: 3.0511 - val_accuracy: 0.5036 - lr: 0.0010\n",
            "Epoch 39/100\n",
            "312/312 [==============================] - 27s 85ms/step - loss: 0.3646 - accuracy: 0.9909 - val_loss: 3.0691 - val_accuracy: 0.5009 - lr: 0.0010\n",
            "Epoch 40/100\n",
            "312/312 [==============================] - 25s 79ms/step - loss: 0.3615 - accuracy: 0.9915 - val_loss: 3.0689 - val_accuracy: 0.5037 - lr: 0.0010\n",
            "Epoch 41/100\n",
            "312/312 [==============================] - 27s 86ms/step - loss: 0.3561 - accuracy: 0.9920 - val_loss: 3.0763 - val_accuracy: 0.5027 - lr: 0.0010\n",
            "Epoch 42/100\n",
            "312/312 [==============================] - 26s 82ms/step - loss: 0.3540 - accuracy: 0.9922 - val_loss: 3.0700 - val_accuracy: 0.5081 - lr: 0.0010\n",
            "Epoch 43/100\n",
            "312/312 [==============================] - 25s 79ms/step - loss: 0.3547 - accuracy: 0.9914 - val_loss: 3.1067 - val_accuracy: 0.5030 - lr: 0.0010\n",
            "Epoch 44/100\n",
            "312/312 [==============================] - 25s 81ms/step - loss: 0.3499 - accuracy: 0.9919 - val_loss: 3.1159 - val_accuracy: 0.5037 - lr: 0.0010\n",
            "Epoch 45/100\n",
            "312/312 [==============================] - 27s 86ms/step - loss: 0.3419 - accuracy: 0.9938 - val_loss: 3.1035 - val_accuracy: 0.5091 - lr: 0.0010\n",
            "Epoch 46/100\n",
            "312/312 [==============================] - 25s 79ms/step - loss: 0.3438 - accuracy: 0.9922 - val_loss: 3.1106 - val_accuracy: 0.5042 - lr: 0.0010\n",
            "Epoch 47/100\n",
            "312/312 [==============================] - 25s 82ms/step - loss: 0.3405 - accuracy: 0.9932 - val_loss: 3.0902 - val_accuracy: 0.5125 - lr: 0.0010\n",
            "Epoch 48/100\n",
            "312/312 [==============================] - 26s 83ms/step - loss: 0.3378 - accuracy: 0.9931 - val_loss: 3.1301 - val_accuracy: 0.5050 - lr: 0.0010\n",
            "Epoch 49/100\n",
            "312/312 [==============================] - 25s 80ms/step - loss: 0.3333 - accuracy: 0.9939 - val_loss: 3.1826 - val_accuracy: 0.5034 - lr: 0.0010\n",
            "Epoch 50/100\n",
            "312/312 [==============================] - 27s 87ms/step - loss: 0.3332 - accuracy: 0.9935 - val_loss: 3.1629 - val_accuracy: 0.5035 - lr: 0.0010\n",
            "Epoch 51/100\n",
            "312/312 [==============================] - 27s 87ms/step - loss: 0.3284 - accuracy: 0.9938 - val_loss: 3.1464 - val_accuracy: 0.5080 - lr: 0.0010\n",
            "Epoch 52/100\n",
            "312/312 [==============================] - 26s 84ms/step - loss: 0.3259 - accuracy: 0.9942 - val_loss: 3.1540 - val_accuracy: 0.5077 - lr: 0.0010\n",
            "Epoch 53/100\n",
            "312/312 [==============================] - 25s 80ms/step - loss: 0.3257 - accuracy: 0.9936 - val_loss: 3.1769 - val_accuracy: 0.5055 - lr: 0.0010\n",
            "Epoch 54/100\n",
            "312/312 [==============================] - 27s 86ms/step - loss: 0.3253 - accuracy: 0.9930 - val_loss: 3.1821 - val_accuracy: 0.5019 - lr: 0.0010\n",
            "Epoch 55/100\n",
            "312/312 [==============================] - 25s 80ms/step - loss: 0.3234 - accuracy: 0.9932 - val_loss: 3.1758 - val_accuracy: 0.5087 - lr: 0.0010\n",
            "Epoch 56/100\n",
            "312/312 [==============================] - 25s 80ms/step - loss: 0.3209 - accuracy: 0.9933 - val_loss: 3.1722 - val_accuracy: 0.5073 - lr: 0.0010\n",
            "Epoch 57/100\n",
            "312/312 [==============================] - 27s 87ms/step - loss: 0.3183 - accuracy: 0.9935 - val_loss: 3.1794 - val_accuracy: 0.5082 - lr: 0.0010\n",
            "Epoch 58/100\n",
            "312/312 [==============================] - 26s 84ms/step - loss: 0.3142 - accuracy: 0.9942 - val_loss: 3.2075 - val_accuracy: 0.5038 - lr: 0.0010\n",
            "Epoch 59/100\n",
            "312/312 [==============================] - 25s 79ms/step - loss: 0.3130 - accuracy: 0.9940 - val_loss: 3.1970 - val_accuracy: 0.5068 - lr: 0.0010\n",
            "Epoch 60/100\n",
            "312/312 [==============================] - 27s 86ms/step - loss: 0.3085 - accuracy: 0.9946 - val_loss: 3.2078 - val_accuracy: 0.5102 - lr: 0.0010\n",
            "Epoch 61/100\n",
            "312/312 [==============================] - 26s 83ms/step - loss: 0.3082 - accuracy: 0.9943 - val_loss: 3.2272 - val_accuracy: 0.5079 - lr: 0.0010\n",
            "Epoch 62/100\n",
            "312/312 [==============================] - 27s 85ms/step - loss: 0.3059 - accuracy: 0.9943 - val_loss: 3.2455 - val_accuracy: 0.5050 - lr: 0.0010\n",
            "Epoch 63/100\n",
            "312/312 [==============================] - 27s 86ms/step - loss: 0.3058 - accuracy: 0.9934 - val_loss: 3.2008 - val_accuracy: 0.5070 - lr: 0.0010\n",
            "Epoch 64/100\n",
            "312/312 [==============================] - 27s 87ms/step - loss: 0.3035 - accuracy: 0.9935 - val_loss: 3.2115 - val_accuracy: 0.5092 - lr: 0.0010\n",
            "Epoch 65/100\n",
            "312/312 [==============================] - 25s 81ms/step - loss: 0.3019 - accuracy: 0.9940 - val_loss: 3.1973 - val_accuracy: 0.5102 - lr: 0.0010\n",
            "Epoch 66/100\n",
            "312/312 [==============================] - 25s 80ms/step - loss: 0.2975 - accuracy: 0.9945 - val_loss: 3.2049 - val_accuracy: 0.5082 - lr: 0.0010\n",
            "Epoch 67/100\n",
            "312/312 [==============================] - 27s 86ms/step - loss: 0.2942 - accuracy: 0.9950 - val_loss: 3.2396 - val_accuracy: 0.5061 - lr: 0.0010\n",
            "Epoch 68/100\n",
            "312/312 [==============================] - 26s 85ms/step - loss: 0.2944 - accuracy: 0.9944 - val_loss: 3.2209 - val_accuracy: 0.5122 - lr: 0.0010\n",
            "Epoch 69/100\n",
            "312/312 [==============================] - 25s 81ms/step - loss: 0.2913 - accuracy: 0.9948 - val_loss: 3.2180 - val_accuracy: 0.5081 - lr: 0.0010\n",
            "Epoch 70/100\n",
            "312/312 [==============================] - 27s 87ms/step - loss: 0.2894 - accuracy: 0.9946 - val_loss: 3.2358 - val_accuracy: 0.5114 - lr: 0.0010\n",
            "Epoch 71/100\n",
            "312/312 [==============================] - 25s 80ms/step - loss: 0.2865 - accuracy: 0.9951 - val_loss: 3.2316 - val_accuracy: 0.5087 - lr: 0.0010\n",
            "Epoch 72/100\n",
            "312/312 [==============================] - 25s 82ms/step - loss: 0.2875 - accuracy: 0.9945 - val_loss: 3.2485 - val_accuracy: 0.5078 - lr: 0.0010\n",
            "Epoch 73/100\n",
            "312/312 [==============================] - 26s 82ms/step - loss: 0.2857 - accuracy: 0.9945 - val_loss: 3.2336 - val_accuracy: 0.5044 - lr: 0.0010\n",
            "Epoch 74/100\n",
            "312/312 [==============================] - 26s 85ms/step - loss: 0.2815 - accuracy: 0.9952 - val_loss: 3.1989 - val_accuracy: 0.5114 - lr: 0.0010\n",
            "Epoch 75/100\n",
            "312/312 [==============================] - 26s 84ms/step - loss: 0.2820 - accuracy: 0.9948 - val_loss: 3.2579 - val_accuracy: 0.5037 - lr: 0.0010\n",
            "Epoch 76/100\n",
            "312/312 [==============================] - 26s 82ms/step - loss: 0.2811 - accuracy: 0.9944 - val_loss: 3.2555 - val_accuracy: 0.5091 - lr: 0.0010\n",
            "Epoch 77/100\n",
            "312/312 [==============================] - 27s 86ms/step - loss: 0.2795 - accuracy: 0.9942 - val_loss: 3.2431 - val_accuracy: 0.5105 - lr: 0.0010\n",
            "Epoch 78/100\n",
            "312/312 [==============================] - 25s 81ms/step - loss: 0.2735 - accuracy: 0.9954 - val_loss: 3.2508 - val_accuracy: 0.5063 - lr: 0.0010\n",
            "Epoch 79/100\n",
            "312/312 [==============================] - 27s 85ms/step - loss: 0.2751 - accuracy: 0.9948 - val_loss: 3.2294 - val_accuracy: 0.5088 - lr: 0.0010\n",
            "Epoch 80/100\n",
            "312/312 [==============================] - 25s 79ms/step - loss: 0.2713 - accuracy: 0.9954 - val_loss: 3.2283 - val_accuracy: 0.5128 - lr: 0.0010\n",
            "Epoch 81/100\n",
            "312/312 [==============================] - 27s 86ms/step - loss: 0.2700 - accuracy: 0.9953 - val_loss: 3.2706 - val_accuracy: 0.5080 - lr: 0.0010\n",
            "Epoch 82/100\n",
            "312/312 [==============================] - 26s 82ms/step - loss: 0.2674 - accuracy: 0.9958 - val_loss: 3.2598 - val_accuracy: 0.5097 - lr: 0.0010\n",
            "Epoch 83/100\n",
            "312/312 [==============================] - 26s 82ms/step - loss: 0.2653 - accuracy: 0.9956 - val_loss: 3.2512 - val_accuracy: 0.5082 - lr: 0.0010\n",
            "Epoch 84/100\n",
            "312/312 [==============================] - 25s 80ms/step - loss: 0.2646 - accuracy: 0.9955 - val_loss: 3.2661 - val_accuracy: 0.5099 - lr: 0.0010\n",
            "Epoch 85/100\n",
            "312/312 [==============================] - 26s 84ms/step - loss: 0.2617 - accuracy: 0.9958 - val_loss: 3.2537 - val_accuracy: 0.5105 - lr: 0.0010\n",
            "Epoch 86/100\n",
            "312/312 [==============================] - 26s 82ms/step - loss: 0.2603 - accuracy: 0.9957 - val_loss: 3.2503 - val_accuracy: 0.5118 - lr: 0.0010\n",
            "Epoch 87/100\n",
            "312/312 [==============================] - 25s 79ms/step - loss: 0.2597 - accuracy: 0.9957 - val_loss: 3.2709 - val_accuracy: 0.5096 - lr: 0.0010\n",
            "Epoch 88/100\n",
            "312/312 [==============================] - 27s 87ms/step - loss: 0.2610 - accuracy: 0.9946 - val_loss: 3.2431 - val_accuracy: 0.5108 - lr: 0.0010\n",
            "Epoch 89/100\n",
            "312/312 [==============================] - 26s 84ms/step - loss: 0.2568 - accuracy: 0.9954 - val_loss: 3.2525 - val_accuracy: 0.5098 - lr: 0.0010\n",
            "Epoch 90/100\n",
            "312/312 [==============================] - 25s 80ms/step - loss: 0.2583 - accuracy: 0.9950 - val_loss: 3.3192 - val_accuracy: 0.5034 - lr: 0.0010\n",
            "Epoch 91/100\n",
            "312/312 [==============================] - 27s 86ms/step - loss: 0.2558 - accuracy: 0.9951 - val_loss: 3.2835 - val_accuracy: 0.5117 - lr: 0.0010\n",
            "Epoch 92/100\n",
            "312/312 [==============================] - 25s 81ms/step - loss: 0.2521 - accuracy: 0.9955 - val_loss: 3.2507 - val_accuracy: 0.5088 - lr: 0.0010\n",
            "Epoch 93/100\n",
            "312/312 [==============================] - 25s 81ms/step - loss: 0.2491 - accuracy: 0.9959 - val_loss: 3.2612 - val_accuracy: 0.5115 - lr: 0.0010\n",
            "Epoch 94/100\n",
            "312/312 [==============================] - 27s 86ms/step - loss: 0.2474 - accuracy: 0.9963 - val_loss: 3.2902 - val_accuracy: 0.5086 - lr: 0.0010\n",
            "Epoch 95/100\n",
            "312/312 [==============================] - 25s 80ms/step - loss: 0.2465 - accuracy: 0.9961 - val_loss: 3.3018 - val_accuracy: 0.5082 - lr: 0.0010\n",
            "Epoch 96/100\n",
            "312/312 [==============================] - 26s 85ms/step - loss: 0.2454 - accuracy: 0.9961 - val_loss: 3.2541 - val_accuracy: 0.5118 - lr: 0.0010\n",
            "Epoch 97/100\n",
            "312/312 [==============================] - 26s 83ms/step - loss: 0.2416 - accuracy: 0.9966 - val_loss: 3.2447 - val_accuracy: 0.5154 - lr: 0.0010\n",
            "Epoch 98/100\n",
            "312/312 [==============================] - 25s 80ms/step - loss: 0.2402 - accuracy: 0.9967 - val_loss: 3.2565 - val_accuracy: 0.5107 - lr: 0.0010\n",
            "Epoch 99/100\n",
            "312/312 [==============================] - 25s 81ms/step - loss: 0.2389 - accuracy: 0.9967 - val_loss: 3.2725 - val_accuracy: 0.5106 - lr: 0.0010\n",
            "Epoch 100/100\n",
            "312/312 [==============================] - 26s 83ms/step - loss: 0.2373 - accuracy: 0.9966 - val_loss: 3.2628 - val_accuracy: 0.5116 - lr: 0.0010\n",
            "batchsize :\n",
            "{'loss': [5.005682945251465, 3.904961585998535, 3.277777671813965, 2.8258230686187744, 2.483243942260742, 2.205298900604248, 1.9604527950286865, 1.7386687994003296, 1.5443536043167114, 1.3989276885986328, 1.2270185947418213, 1.1128321886062622, 1.002254605293274, 0.8973608016967773, 0.8131439089775085, 0.745403528213501, 0.6825730204582214, 0.6360409259796143, 0.593076229095459, 0.5570020079612732, 0.5312485098838806, 0.5022834539413452, 0.4835059642791748, 0.46349167823791504, 0.4495988190174103, 0.44039687514305115, 0.42837655544281006, 0.4251145124435425, 0.41572073101997375, 0.40737274289131165, 0.40046727657318115, 0.393126904964447, 0.38718196749687195, 0.386160284280777, 0.3795129060745239, 0.37731581926345825, 0.37506893277168274, 0.3680284917354584, 0.36455604434013367, 0.3615167737007141, 0.3561103940010071, 0.35397449135780334, 0.35473576188087463, 0.34988364577293396, 0.3419313132762909, 0.34380367398262024, 0.34053048491477966, 0.33780956268310547, 0.3332892060279846, 0.33319464325904846, 0.32843896746635437, 0.3258671164512634, 0.3257482349872589, 0.3253445327281952, 0.3233872950077057, 0.3208596706390381, 0.3182982802391052, 0.3141930401325226, 0.312962144613266, 0.30846598744392395, 0.30821385979652405, 0.30592918395996094, 0.30582693219184875, 0.303485631942749, 0.30185797810554504, 0.2974988520145416, 0.2942293882369995, 0.2944335639476776, 0.2913192808628082, 0.2894148826599121, 0.2864983081817627, 0.2874562740325928, 0.28568729758262634, 0.28154507279396057, 0.28198352456092834, 0.2811024785041809, 0.2794628441333771, 0.273453950881958, 0.27512186765670776, 0.2713366448879242, 0.26995038986206055, 0.2673918902873993, 0.26529034972190857, 0.2646133005619049, 0.26172760128974915, 0.26029351353645325, 0.25969159603118896, 0.261010080575943, 0.2568417489528656, 0.25830334424972534, 0.255752831697464, 0.2521441876888275, 0.24910737574100494, 0.24738019704818726, 0.24654504656791687, 0.24540823698043823, 0.24163852632045746, 0.24019134044647217, 0.23889419436454773, 0.237296462059021], 'accuracy': [0.06433086097240448, 0.20911918580532074, 0.31771668791770935, 0.4032905399799347, 0.475998193025589, 0.5361406207084656, 0.5920947194099426, 0.6450320482254028, 0.6961526870727539, 0.734375, 0.7785162329673767, 0.8103179931640625, 0.8372793197631836, 0.8668238520622253, 0.8887189030647278, 0.9066262245178223, 0.9211476445198059, 0.9343900680541992, 0.9466793537139893, 0.9539024829864502, 0.9597712755203247, 0.9676464796066284, 0.9713332653045654, 0.9756972193717957, 0.9787319302558899, 0.9803119897842407, 0.983246386051178, 0.9826194047927856, 0.9847261309623718, 0.9867074489593506, 0.9869582653045654, 0.988061785697937, 0.9892405867576599, 0.9885383248329163, 0.9903441071510315, 0.9894663095474243, 0.9904444217681885, 0.9908707737922668, 0.9908958673477173, 0.991497814655304, 0.9920495748519897, 0.9922000169754028, 0.9913724064826965, 0.9918990731239319, 0.9937900900840759, 0.9921749830245972, 0.9931781888008118, 0.9930527806282043, 0.9939054846763611, 0.9934540390968323, 0.9937800765037537, 0.9942064881324768, 0.9936045408248901, 0.9930276870727539, 0.9932032227516174, 0.9932534098625183, 0.9935293197631836, 0.9941813945770264, 0.9940308928489685, 0.9945575594902039, 0.9943068027496338, 0.9942817091941833, 0.9933788180351257, 0.9935042262077332, 0.993955671787262, 0.9944572448730469, 0.9950340986251831, 0.9944071173667908, 0.9948334693908691, 0.9945826530456543, 0.9951093792915344, 0.9944572448730469, 0.9944572448730469, 0.9952096939086914, 0.9948083758354187, 0.9943569302558899, 0.9941813945770264, 0.9953601360321045, 0.9947582483291626, 0.9953852295875549, 0.995284914970398, 0.9957864880561829, 0.9955858588218689, 0.9954855442047119, 0.9957614541053772, 0.9956861734390259, 0.9956861734390259, 0.9945575594902039, 0.9954354166984558, 0.9950340986251831, 0.9950591921806335, 0.9955106377601624, 0.9959118962287903, 0.996313214302063, 0.9960623979568481, 0.9960874915122986, 0.9965640306472778, 0.9967144727706909, 0.9967144727706909, 0.9966141581535339], 'val_loss': [5.056010723114014, 4.118313789367676, 3.061809539794922, 2.83402156829834, 2.670766830444336, 2.5856616497039795, 2.522305965423584, 2.4969589710235596, 2.495936393737793, 2.511061429977417, 2.527334451675415, 2.537416934967041, 2.541217088699341, 2.566331148147583, 2.613978624343872, 2.6712920665740967, 2.690310478210449, 2.735114812850952, 2.756166696548462, 2.7575461864471436, 2.79848313331604, 2.83638334274292, 2.8410754203796387, 2.8683555126190186, 2.885479211807251, 2.9038984775543213, 2.9187862873077393, 2.961050510406494, 2.9728035926818848, 3.0063259601593018, 2.9703688621520996, 2.993596076965332, 2.996279239654541, 3.0184686183929443, 3.0504579544067383, 3.0156168937683105, 3.0942869186401367, 3.0511109828948975, 3.0690739154815674, 3.068912982940674, 3.076306104660034, 3.0700149536132812, 3.1066792011260986, 3.115891456604004, 3.1035172939300537, 3.110645055770874, 3.090203285217285, 3.130129098892212, 3.182636022567749, 3.1628925800323486, 3.146413564682007, 3.154022455215454, 3.176926851272583, 3.1820592880249023, 3.175776958465576, 3.1722381114959717, 3.179424524307251, 3.2074949741363525, 3.1969871520996094, 3.2078301906585693, 3.227240800857544, 3.245455503463745, 3.2007648944854736, 3.211488962173462, 3.197265625, 3.2049453258514404, 3.2395899295806885, 3.220914363861084, 3.2179646492004395, 3.2357635498046875, 3.231555700302124, 3.2485151290893555, 3.2336018085479736, 3.198946952819824, 3.2578961849212646, 3.255472183227539, 3.2431254386901855, 3.2508370876312256, 3.229447603225708, 3.2282721996307373, 3.2705612182617188, 3.259761333465576, 3.2511630058288574, 3.266134262084961, 3.2537262439727783, 3.2503395080566406, 3.2709269523620605, 3.243131160736084, 3.25248646736145, 3.31915545463562, 3.283510446548462, 3.2506508827209473, 3.26117205619812, 3.29019832611084, 3.3018054962158203, 3.2540624141693115, 3.244680643081665, 3.256528854370117, 3.272490978240967, 3.2628347873687744], 'val_accuracy': [0.016300000250339508, 0.17730000615119934, 0.36059999465942383, 0.4075999855995178, 0.43299999833106995, 0.4481000006198883, 0.4625000059604645, 0.4740999937057495, 0.48170000314712524, 0.48089998960494995, 0.4837000072002411, 0.4902999997138977, 0.4943999946117401, 0.4878000020980835, 0.4909999966621399, 0.4943000078201294, 0.48969998955726624, 0.4887999892234802, 0.4936999976634979, 0.4999000132083893, 0.4993000030517578, 0.4959999918937683, 0.49900001287460327, 0.5023999810218811, 0.5012999773025513, 0.5029000043869019, 0.5024999976158142, 0.49889999628067017, 0.5006999969482422, 0.49950000643730164, 0.5049999952316284, 0.5062999725341797, 0.5051000118255615, 0.5008000135421753, 0.5037999749183655, 0.5055999755859375, 0.5005999803543091, 0.503600001335144, 0.5008999705314636, 0.5037000179290771, 0.5026999711990356, 0.5080999732017517, 0.503000020980835, 0.5037000179290771, 0.5091000199317932, 0.5041999816894531, 0.512499988079071, 0.5049999952316284, 0.5034000277519226, 0.5034999847412109, 0.5080000162124634, 0.5077000260353088, 0.5055000185966492, 0.5019000172615051, 0.5087000131607056, 0.5073000192642212, 0.5081999897956848, 0.5037999749183655, 0.5067999958992004, 0.510200023651123, 0.5078999996185303, 0.5049999952316284, 0.5070000290870667, 0.5091999769210815, 0.510200023651123, 0.5081999897956848, 0.5060999989509583, 0.5121999979019165, 0.5080999732017517, 0.5113999843597412, 0.5087000131607056, 0.5077999830245972, 0.5044000148773193, 0.5113999843597412, 0.5037000179290771, 0.5091000199317932, 0.5105000138282776, 0.5062999725341797, 0.5088000297546387, 0.5127999782562256, 0.5080000162124634, 0.5097000002861023, 0.5081999897956848, 0.5098999738693237, 0.5105000138282776, 0.5117999911308289, 0.5095999836921692, 0.5108000040054321, 0.5098000168800354, 0.5034000277519226, 0.5116999745368958, 0.5088000297546387, 0.5115000009536743, 0.5085999965667725, 0.5081999897956848, 0.5117999911308289, 0.5153999924659729, 0.510699987411499, 0.5105999708175659, 0.5116000175476074], 'lr': [0.001, 0.001, 0.001, 0.001, 0.001, 0.001, 0.001, 0.001, 0.001, 0.001, 0.001, 0.001, 0.001, 0.001, 0.001, 0.001, 0.001, 0.001, 0.001, 0.001, 0.001, 0.001, 0.001, 0.001, 0.001, 0.001, 0.001, 0.001, 0.001, 0.001, 0.001, 0.001, 0.001, 0.001, 0.001, 0.001, 0.001, 0.001, 0.001, 0.001, 0.001, 0.001, 0.001, 0.001, 0.001, 0.001, 0.001, 0.001, 0.001, 0.001, 0.001, 0.001, 0.001, 0.001, 0.001, 0.001, 0.001, 0.001, 0.001, 0.001, 0.001, 0.001, 0.001, 0.001, 0.001, 0.001, 0.001, 0.001, 0.001, 0.001, 0.001, 0.001, 0.001, 0.001, 0.001, 0.001, 0.001, 0.001, 0.001, 0.001, 0.001, 0.001, 0.001, 0.001, 0.001, 0.001, 0.001, 0.001, 0.001, 0.001, 0.001, 0.001, 0.001, 0.001, 0.001, 0.001, 0.001, 0.001, 0.001, 0.001]}\n"
          ]
        }
      ],
      "source": [
        "mymodel = NN()"
      ]
    },
    {
      "cell_type": "markdown",
      "source": [
        "#Plot Model"
      ],
      "metadata": {
        "id": "EbVGQCTx9Jc7"
      }
    },
    {
      "cell_type": "code",
      "source": [
        "plot_model(mymodel.model)"
      ],
      "metadata": {
        "id": "Amr7wpFQ7_br",
        "colab": {
          "base_uri": "https://localhost:8080/",
          "height": 953
        },
        "outputId": "ece47fbb-c1f2-4da2-d180-3e1e81279437"
      },
      "execution_count": null,
      "outputs": [
        {
          "output_type": "execute_result",
          "data": {
            "image/png": "[encoded data removed]",
            "text/plain": [
              "<IPython.core.display.Image object>"
            ]
          },
          "metadata": {},
          "execution_count": 44
        }
      ]
    },
    {
      "cell_type": "code",
      "source": [
        "mymodel.model.summary()"
      ],
      "metadata": {
        "id": "Fur5Fi7aq2ir",
        "colab": {
          "base_uri": "https://localhost:8080/"
        },
        "outputId": "2e787908-cac4-4e02-8f89-2394dba2f7d2"
      },
      "execution_count": null,
      "outputs": [
        {
          "output_type": "stream",
          "name": "stdout",
          "text": [
            "Model: \"sequential_2\"\n",
            "_________________________________________________________________\n",
            " Layer (type)                Output Shape              Param #   \n",
            "=================================================================\n",
            " resnet50 (Functional)       (None, 1, 1, 2048)        23587712  \n",
            "                                                                 \n",
            " flatten_2 (Flatten)         (None, 2048)              0         \n",
            "                                                                 \n",
            " batch_normalization_4 (Batc  (None, 2048)             8192      \n",
            " hNormalization)                                                 \n",
            "                                                                 \n",
            " dense_4 (Dense)             (None, 512)               1049088   \n",
            "                                                                 \n",
            " dropout_2 (Dropout)         (None, 512)               0         \n",
            "                                                                 \n",
            " activation_4 (Activation)   (None, 512)               0         \n",
            "                                                                 \n",
            " batch_normalization_5 (Batc  (None, 512)              2048      \n",
            " hNormalization)                                                 \n",
            "                                                                 \n",
            " dense_5 (Dense)             (None, 100)               51300     \n",
            "                                                                 \n",
            " activation_5 (Activation)   (None, 100)               0         \n",
            "                                                                 \n",
            "=================================================================\n",
            "Total params: 24,698,340\n",
            "Trainable params: 24,640,100\n",
            "Non-trainable params: 58,240\n",
            "_________________________________________________________________\n"
          ]
        }
      ]
    },
    {
      "cell_type": "markdown",
      "source": [
        "#Plot accuracy and loss of train and validation"
      ],
      "metadata": {
        "id": "0p3LGPcveeyp"
      }
    },
    {
      "cell_type": "code",
      "source": [
        "plt.plot(mymodel.model.history.history['loss'],label = 'loss')\n",
        "plt.plot(mymodel.model.history.history['val_loss'], label = 'val_loss')\n",
        "plt.legend()\n",
        "plt.xlabel('Epochs')\n",
        "plt.ylabel('loss')\n",
        "plt.grid()"
      ],
      "metadata": {
        "id": "X345FW0h82qI",
        "colab": {
          "base_uri": "https://localhost:8080/",
          "height": 279
        },
        "outputId": "1054a900-61ed-4a72-a53c-1802f561ca2a"
      },
      "execution_count": null,
      "outputs": [
        {
          "output_type": "display_data",
          "data": {
            "text/plain": [
              "<Figure size 432x288 with 1 Axes>"
            ],
            "image/png": "[encoded data removed]"
          },
          "metadata": {
            "needs_background": "light"
          }
        }
      ]
    },
    {
      "cell_type": "code",
      "source": [
        "plt.plot(mymodel.model.history.history['accuracy'],label = 'acc')\n",
        "plt.plot(mymodel.model.history.history['val_accuracy'],label = 'val_acc')\n",
        "plt.legend()\n",
        "plt.xlabel('Epochs')\n",
        "plt.ylabel('accuracy')\n",
        "plt.grid()"
      ],
      "metadata": {
        "id": "UX3U4lT-9TzD",
        "colab": {
          "base_uri": "https://localhost:8080/",
          "height": 279
        },
        "outputId": "b1dfbb03-367a-4dbe-b762-a7a786575d10"
      },
      "execution_count": null,
      "outputs": [
        {
          "output_type": "display_data",
          "data": {
            "text/plain": [
              "<Figure size 432x288 with 1 Axes>"
            ],
            "image/png": "[encoded data removed]"
          },
          "metadata": {
            "needs_background": "light"
          }
        }
      ]
    },
    {
      "cell_type": "markdown",
      "source": [
        "#Load trained model"
      ],
      "metadata": {
        "id": "HIGmVh9-erGs"
      }
    },
    {
      "cell_type": "code",
      "execution_count": null,
      "metadata": {
        "id": "fkMGYR88Opjq"
      },
      "outputs": [],
      "source": [
        "NN_model = models.load_model(\"/content/drive/MyDrive/Project.h5\")"
      ]
    },
    {
      "cell_type": "code",
      "source": [
        "NN_model.summary()"
      ],
      "metadata": {
        "id": "m3T6LTfjJUSB",
        "colab": {
          "base_uri": "https://localhost:8080/"
        },
        "outputId": "6da610ca-f4b1-41c5-ba40-130c681a235b"
      },
      "execution_count": null,
      "outputs": [
        {
          "output_type": "stream",
          "name": "stdout",
          "text": [
            "Model: \"sequential_2\"\n",
            "_________________________________________________________________\n",
            " Layer (type)                Output Shape              Param #   \n",
            "=================================================================\n",
            " resnet50 (Functional)       (None, 1, 1, 2048)        23587712  \n",
            "                                                                 \n",
            " flatten_2 (Flatten)         (None, 2048)              0         \n",
            "                                                                 \n",
            " batch_normalization_4 (Batc  (None, 2048)             8192      \n",
            " hNormalization)                                                 \n",
            "                                                                 \n",
            " dense_4 (Dense)             (None, 512)               1049088   \n",
            "                                                                 \n",
            " dropout_2 (Dropout)         (None, 512)               0         \n",
            "                                                                 \n",
            " activation_4 (Activation)   (None, 512)               0         \n",
            "                                                                 \n",
            " batch_normalization_5 (Batc  (None, 512)              2048      \n",
            " hNormalization)                                                 \n",
            "                                                                 \n",
            " dense_5 (Dense)             (None, 100)               51300     \n",
            "                                                                 \n",
            " activation_5 (Activation)   (None, 100)               0         \n",
            "                                                                 \n",
            "=================================================================\n",
            "Total params: 24,698,340\n",
            "Trainable params: 24,640,100\n",
            "Non-trainable params: 58,240\n",
            "_________________________________________________________________\n"
          ]
        }
      ]
    },
    {
      "cell_type": "markdown",
      "source": [
        "#Compte CSI for Convolutional layers"
      ],
      "metadata": {
        "id": "CXaWkvWVexR1"
      }
    },
    {
      "cell_type": "code",
      "source": [
        "from sklearn.utils import shuffle\n",
        "(x_train, y_train), (x_test, y_test) = dataset.load_data()\n",
        "y_train=y_train.reshape(y_train.shape[0],1)\n",
        "x_train = x_train.astype('float32')\n",
        "x_test = x_test.astype('float32')\n",
        "if dataset==cifar100: num_classes = 100\n",
        "else : num_classes = 10\n",
        "num_sample_si=250\n",
        "x_train_s= []\n",
        "y_train_s= []\n",
        "for i in range(num_classes):\n",
        "  c = 0\n",
        "  for j in range(len(y_train)):\n",
        "    if c == num_sample_si:\n",
        "      break\n",
        "    if y_train[j][0] == i:\n",
        "      x_train_s.append(x_train[j])\n",
        "      y_train_s.append(y_train[j][0])\n",
        "      c += 1\n",
        "\n",
        "x_train = np.array(x_train_s)\n",
        "y_train = np.array(y_train_s)\n",
        "if dataset==fashion_mnist:\n",
        "    x_train=np.dstack([x_train.reshape(num_sample_si*10,28*28,1)] * 3)\n",
        "    x_train=x_train.reshape(num_sample_si*10,28,28,3)\n",
        "    x_train= np.asarray([img_to_array(array_to_img(im, scale=False).resize((32,32))) for im in x_train])\n",
        "y_train = tensorflow.keras.utils.to_categorical(y_train, num_classes)\n",
        "y_test = tensorflow.keras.utils.to_categorical(y_test, num_classes)"
      ],
      "metadata": {
        "id": "A83o73uBy-Nm"
      },
      "execution_count": null,
      "outputs": []
    },
    {
      "cell_type": "code",
      "source": [
        "x_test.shape"
      ],
      "metadata": {
        "id": "nBNoof1j9Lji",
        "colab": {
          "base_uri": "https://localhost:8080/"
        },
        "outputId": "3932899c-af06-4f73-c5e1-8c42ac8d96b7"
      },
      "execution_count": null,
      "outputs": [
        {
          "output_type": "execute_result",
          "data": {
            "text/plain": [
              "(10000, 32, 32, 3)"
            ]
          },
          "metadata": {},
          "execution_count": 51
        }
      ]
    },
    {
      "cell_type": "code",
      "source": [
        "if dataset==fashion_mnist:\n",
        "    x_test=np.dstack([x_test.reshape(10000,28*28,1)] * 3)\n",
        "    x_test=x_test.reshape(10000,28,28,3)\n",
        "    x_test= np.asarray([img_to_array(array_to_img(im, scale=False).resize((32,32))) for im in x_test])"
      ],
      "metadata": {
        "id": "28y4Vwxm8823"
      },
      "execution_count": null,
      "outputs": []
    },
    {
      "cell_type": "code",
      "source": [
        "csi_history = []\n",
        "idx=2\n",
        "index_layer = idx\n",
        "# index_layer = 4*(index_layer1 + 1) - 1\n",
        "out_shape = NN_model.layers[index_layer].output.type_spec.shape\n",
        "out_dim = out_shape[1]\n",
        "\n",
        "embed_model = models.Model(inputs=NN_model.input, outputs=NN_model.layers[index_layer].output)\n",
        "\n",
        "# normalize the data with normalize function from NN class\n",
        "mean = np.mean(x_train,axis=(0,1,2,3))\n",
        "std = np.std(x_train, axis=(0, 1, 2, 3))\n",
        "x_train = (x_train-mean)/(std+1e-7)\n",
        "x_test = (x_test-mean)/(std+1e-7)\n",
        "\n",
        "pred_out = embed_model.predict(x_train)\n",
        "\n",
        "pred_out = pred_out.reshape(len(y_train), out_dim, 1)\n",
        "\n",
        "mu_list = []\n",
        "\n",
        "# calculate means\n",
        "for i in range(0, num_classes):\n",
        "    class_mean = np.mean(pred_out[num_sample_si*i:num_sample_si*(i+1)], axis=0)\n",
        "    mu_list.append(class_mean)\n",
        "\n",
        "mu_list = np.array(mu_list)\n",
        "\n",
        "# center based SI calculation\n",
        "counter = 0\n",
        "for i in range(num_sample_si*num_classes):\n",
        "    dis_list = []\n",
        "    for j in range(0, num_classes):\n",
        "      dis_list.append(cdist(pred_out[i].T, mu_list[j].T)[0])\n",
        "\n",
        "    if np.argmin(np.array(np.reshape(dis_list,(num_classes,)))) == np.argmax(y_train[i]):\n",
        "        counter += 1\n",
        "\n",
        "csi = (counter/len(y_train))*100\n",
        "\n",
        "csi_history.append(csi)\n",
        "\n",
        "print(f\"CSI {index_layer} : {csi:3f} %\")"
      ],
      "metadata": {
        "id": "iYVKzWVd1YbO",
        "colab": {
          "base_uri": "https://localhost:8080/"
        },
        "outputId": "874889e6-dbd0-4128-e386-80e3f6219a15"
      },
      "execution_count": null,
      "outputs": [
        {
          "output_type": "stream",
          "name": "stdout",
          "text": [
            "782/782 [==============================] - 8s 9ms/step\n",
            "CSI 2 : 90.232000 %\n"
          ]
        }
      ]
    },
    {
      "cell_type": "markdown",
      "source": [
        "#loss and accuracy of test data"
      ],
      "metadata": {
        "id": "pK8LeIfzembS"
      }
    },
    {
      "cell_type": "code",
      "source": [
        "test_loss, test_accuracy = mymodel.model.evaluate(x_test, y_test, verbose=0)\n",
        "print('Test_loss:', test_loss)\n",
        "print('Test_accuracy:', test_accuracy)"
      ],
      "metadata": {
        "id": "TLwHLK55JRly",
        "colab": {
          "base_uri": "https://localhost:8080/"
        },
        "outputId": "864dcbff-6ff0-4da6-bd48-8bf1ec6ebebc"
      },
      "execution_count": null,
      "outputs": [
        {
          "output_type": "stream",
          "name": "stdout",
          "text": [
            "Test_loss: 3.245729923248291\n",
            "Test_accuracy: 0.5184000134468079\n"
          ]
        }
      ]
    },
    {
      "cell_type": "code",
      "source": [],
      "metadata": {
        "id": "FJw0ptqh3p29"
      },
      "execution_count": null,
      "outputs": []
    }
  ],
  "metadata": {
    "accelerator": "GPU",
    "colab": {
      "provenance": []
    },
    "gpuClass": "standard",
    "kernelspec": {
      "display_name": "Python 3",
      "name": "python3"
    },
    "language_info": {
      "name": "python"
    }
  },
  "nbformat": 4,
  "nbformat_minor": 0
}